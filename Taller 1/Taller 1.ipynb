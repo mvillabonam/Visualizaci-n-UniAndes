{
 "cells": [
  {
   "cell_type": "markdown",
   "metadata": {},
   "source": [
    "# Taller 1\n",
    "\n",
    "## Instrucciones generales\n",
    "\n",
    "1. Para desarrollar el *cuaderno* primero debe descargarlo.\n",
    "\n",
    "2. Para responder cada inciso deberá utilizar el espacio debidamente especificado.\n",
    "\n",
    "3. La actividad se considera entregada para calificación cuando el *cuaderno* de jupyter notebook con extensión `.ipynb` se sube al espacio correspondiente en el aula de Bloque Neón. Ningún material adicional será revisado.\n",
    "\n",
    "4. La solución del taller debe ser realizado en **grupos**. No se aceptaran talleres de individuales. \n",
    "\n",
    "5. El cuaderno debe poderse correr sin errores al momento de evaluar.\n",
    "\n",
    "## Criterios de evaluación.\n",
    "Su calificación podrá ser penalizada por los siguientes items:\n",
    "\n",
    "- Falta de seguimiento de las instrucciones.\n",
    "- Código no-human readable. \n",
    "- Falta de una debida explicación y comentarios al código.\n",
    "\n",
    "A continuación se listan los puntajes máximos para cada punto:\n",
    "| **Punto** | **Puntaje Máximo** |\n",
    "|:---------:|:------------------:|\n",
    "|     1     |         1.0        |\n",
    "|     2     |         2.0        |\n",
    "|     3     |         2.0        |\n",
    "\n",
    "Punto 1 (Calentamiento) vale 0.2 y el resto del punto 1 vale 0.8. Cada subnumeral del punto 2 y 3 vale lo mismo.\n",
    "\n",
    "Este Taller evalúa los tópicos de la semana 1 a la 4 y tiene el valor de un 20% en su calificación final."
   ]
  },
  {
   "cell_type": "markdown",
   "metadata": {},
   "source": [
    "# Punto 1 (Calentamiento)"
   ]
  },
  {
   "cell_type": "markdown",
   "metadata": {},
   "source": [
    "Construya una función que represente el lanzamiento de un dado de 6 caras. Lance el dado 1000 veces y guarde sus resultado en un vector. Calcule la media empírica y el valor esperado (teórico) de lanzar el mismo dado y compare los resultados. "
   ]
  },
  {
   "cell_type": "code",
   "execution_count": 200,
   "metadata": {},
   "outputs": [
    {
     "name": "stdout",
     "output_type": "stream",
     "text": [
      "3.429\n",
      "3.5\n",
      "Hay una diferencia significativa entre la media empírica y el valor esperado.\n"
     ]
    }
   ],
   "source": [
    "# Se importa numpy \n",
    "\n",
    "import numpy as np\n",
    "\n",
    "# Se definen los seis posibles resultados\n",
    "\n",
    "dado= [1,2,3,4,5,6]\n",
    "\n",
    "# Se genera la función\n",
    "\n",
    "def lanzamiento_dado(lista):\n",
    "\n",
    "    \"\"\"\n",
    "    Definición de la función: Toma una lista del 1 al 6 y simula el lanzamiento de un dado. \n",
    "    Parámetros: lista (list): Valores del dado de 1 a 6.\n",
    "    Retorna: resultado (float): Media de 1000 lanzamientos aleatorios.\n",
    "    \"\"\"\n",
    "    resultados_lanzamiento= np.random.choice(lista,size=1000)\n",
    "    media= np.mean(resultados_lanzamiento)\n",
    "\n",
    "    return media\n",
    "\n",
    "# Testeando la función y obteniendo la media empírica\n",
    "media_empirica= lanzamiento_dado(dado)\n",
    "print(media_empirica)\n",
    "\n",
    "# Valor esperado teórico\n",
    "resultados = np.array(dado)\n",
    "probabilidades = np.array([1/6, 1/6, 1/6, 1/6, 1/6, 1/6]) # Misma probabilidad de que salga cualquiera de los 6 números\n",
    "\n",
    "valor_esperado = np.sum(resultados * probabilidades)\n",
    "print(valor_esperado)\n",
    "\n",
    "# Comparación de valores\n",
    "if np.isclose(media_empirica, valor_esperado, atol=0.05):  # Compara si los valores están cerca bajo el criterio de una distancia de 0.05\n",
    "    print(\"Los resultados son muy cercanos. La función refleja bien el valor esperado.\")\n",
    "else:\n",
    "    print(\"Hay una diferencia significativa entre la media empírica y el valor esperado.\")"
   ]
  },
  {
   "cell_type": "markdown",
   "metadata": {},
   "source": [
    "# Punto 1.5 (Moneda cargada)\n",
    "Implemente una función en Python que simule el lanzamiento de una moneda cargada.\n",
    "\n",
    "- La función debe llamarse `lanzar_moneda` y recibir un único parámetro `p` (`float`): Un número entre 0 y 1 que representa la probabilidad de obtener \"Cara\" en el lanzamiento.\n",
    "- La probabilidad de obtener \"Sello\" será complementaria, es decir, `1 - p`.\n",
    "- La función debe devolver un string:\n",
    "  - `\"C\"` si el resultado del lanzamiento es \"Cara\".\n",
    "  - `\"S\"` si el resultado del lanzamiento es \"Sello\".\n",
    "\n",
    "Ejemplo de uso:\n",
    "```python\n",
    "resultado = lanzar_moneda(0.7)\n",
    "print(resultado)  # Puede imprimir \"C\" con probabilidad 0.7 o \"S\" con probabilidad 0.3"
   ]
  },
  {
   "cell_type": "code",
   "execution_count": 201,
   "metadata": {},
   "outputs": [
    {
     "name": "stdout",
     "output_type": "stream",
     "text": [
      "La probabilidad debe estar entre 0 y 1. Intenta de nuevo.\n",
      "\n"
     ]
    }
   ],
   "source": [
    "import numpy as np\n",
    "def lanzar_moneda(p: float) -> str:\n",
    "    np.random.seed(42) # Fijamos la semilla para reproducibilidad\n",
    "    \"\"\"\n",
    "    Lanza una moneda sesgada con probabilidad p de obtener \"C\" (cara).\n",
    "    Parámetros: (p: float). Probabilidad de obtener cara, debe estar en el intervalo [0, 1].\n",
    "    Retorna: (str). \"C\" si sale cara, \"S\" si sale sello.\n",
    "    \"\"\"\n",
    "    if not (0 <= p <= 1):\n",
    "        print(\"La probabilidad debe estar entre 0 y 1. Intenta de nuevo.\")\n",
    "        return \"\"\n",
    "    aleatorio = np.random.rand()  # Número aleatorio entre 0 y 1\n",
    "    if aleatorio < p:\n",
    "        return \"C\"\n",
    "    else:\n",
    "        return \"S\"\n",
    "\n",
    "print(lanzar_moneda(2))"
   ]
  },
  {
   "cell_type": "markdown",
   "metadata": {},
   "source": [
    "Implemente el siguiente algoritmo para quitarle el sesgo a la moneda i.e. la probabilidad de sacar \"C\" es igual a la probabilidad de sacar \"S\".\n",
    "\n",
    "**Algoritmo:**\n",
    "1. Lance la moneda sesgada dos veces (utilice la función creada anteriormente con el mismo valor de `p` en ambos lanzamientos).\n",
    "2. Si los dos lanzamientos tienen resultados diferentes, devuelve el primer resultado.\n",
    "3. Si los dos lanzamientos son iguales, repite el experimento desde el inicio. Para hacer esto debe hacer uso del concepto de _recursión_. Investigue que es esto y cómo implementarlo en este caso. \n",
    "> Hint: En el Jupyter Notebook de la Sesión 3 hay un par de ejercicios y ejemplos acerca de la recursión.\n",
    "\n",
    "Cree una función llamada `lanzamiento_desesgado()` para implementar este algoritmo. Note que para que este algoritmo funcione **NO** es necesario conocer el sesgo de la moneda (WOW, no?)."
   ]
  },
  {
   "cell_type": "code",
   "execution_count": 202,
   "metadata": {},
   "outputs": [
    {
     "ename": "RecursionError",
     "evalue": "maximum recursion depth exceeded",
     "output_type": "error",
     "traceback": [
      "\u001b[1;31m---------------------------------------------------------------------------\u001b[0m",
      "\u001b[1;31mRecursionError\u001b[0m                            Traceback (most recent call last)",
      "Cell \u001b[1;32mIn[202], line 11\u001b[0m\n\u001b[0;32m      8\u001b[0m     \u001b[38;5;28;01melse\u001b[39;00m:\n\u001b[0;32m      9\u001b[0m         \u001b[38;5;66;03m# Caso recursivo: Si los dos lanzamientos son iguales, se repite el experimento desde el inicio\u001b[39;00m\n\u001b[0;32m     10\u001b[0m         \u001b[38;5;28;01mreturn\u001b[39;00m lanzamiento_desesgado(p) \n\u001b[1;32m---> 11\u001b[0m \u001b[43mlanzamiento_desesgado\u001b[49m\u001b[43m(\u001b[49m\u001b[38;5;241;43m0.7\u001b[39;49m\u001b[43m)\u001b[49m\n",
      "Cell \u001b[1;32mIn[202], line 10\u001b[0m, in \u001b[0;36mlanzamiento_desesgado\u001b[1;34m(p)\u001b[0m\n\u001b[0;32m      7\u001b[0m     \u001b[38;5;28;01mreturn\u001b[39;00m resultado_1\n\u001b[0;32m      8\u001b[0m \u001b[38;5;28;01melse\u001b[39;00m:\n\u001b[0;32m      9\u001b[0m     \u001b[38;5;66;03m# Caso recursivo: Si los dos lanzamientos son iguales, se repite el experimento desde el inicio\u001b[39;00m\n\u001b[1;32m---> 10\u001b[0m     \u001b[38;5;28;01mreturn\u001b[39;00m \u001b[43mlanzamiento_desesgado\u001b[49m\u001b[43m(\u001b[49m\u001b[43mp\u001b[49m\u001b[43m)\u001b[49m\n",
      "Cell \u001b[1;32mIn[202], line 10\u001b[0m, in \u001b[0;36mlanzamiento_desesgado\u001b[1;34m(p)\u001b[0m\n\u001b[0;32m      7\u001b[0m     \u001b[38;5;28;01mreturn\u001b[39;00m resultado_1\n\u001b[0;32m      8\u001b[0m \u001b[38;5;28;01melse\u001b[39;00m:\n\u001b[0;32m      9\u001b[0m     \u001b[38;5;66;03m# Caso recursivo: Si los dos lanzamientos son iguales, se repite el experimento desde el inicio\u001b[39;00m\n\u001b[1;32m---> 10\u001b[0m     \u001b[38;5;28;01mreturn\u001b[39;00m \u001b[43mlanzamiento_desesgado\u001b[49m\u001b[43m(\u001b[49m\u001b[43mp\u001b[49m\u001b[43m)\u001b[49m\n",
      "    \u001b[1;31m[... skipping similar frames: lanzamiento_desesgado at line 10 (2973 times)]\u001b[0m\n",
      "Cell \u001b[1;32mIn[202], line 10\u001b[0m, in \u001b[0;36mlanzamiento_desesgado\u001b[1;34m(p)\u001b[0m\n\u001b[0;32m      7\u001b[0m     \u001b[38;5;28;01mreturn\u001b[39;00m resultado_1\n\u001b[0;32m      8\u001b[0m \u001b[38;5;28;01melse\u001b[39;00m:\n\u001b[0;32m      9\u001b[0m     \u001b[38;5;66;03m# Caso recursivo: Si los dos lanzamientos son iguales, se repite el experimento desde el inicio\u001b[39;00m\n\u001b[1;32m---> 10\u001b[0m     \u001b[38;5;28;01mreturn\u001b[39;00m \u001b[43mlanzamiento_desesgado\u001b[49m\u001b[43m(\u001b[49m\u001b[43mp\u001b[49m\u001b[43m)\u001b[49m\n",
      "Cell \u001b[1;32mIn[202], line 3\u001b[0m, in \u001b[0;36mlanzamiento_desesgado\u001b[1;34m(p)\u001b[0m\n\u001b[0;32m      2\u001b[0m \u001b[38;5;28;01mdef\u001b[39;00m \u001b[38;5;21mlanzamiento_desesgado\u001b[39m(p):    \n\u001b[1;32m----> 3\u001b[0m     resultado_1\u001b[38;5;241m=\u001b[39m \u001b[43mlanzar_moneda\u001b[49m\u001b[43m(\u001b[49m\u001b[43mp\u001b[49m\u001b[43m)\u001b[49m\n\u001b[0;32m      4\u001b[0m     resultado_2\u001b[38;5;241m=\u001b[39m lanzar_moneda (p)\n\u001b[0;32m      5\u001b[0m     \u001b[38;5;66;03m# Caso base: Si los dos lanzamientos tienen resultados diferentes, devuelve el primer resultado\u001b[39;00m\n",
      "\u001b[1;31mRecursionError\u001b[0m: maximum recursion depth exceeded"
     ]
    }
   ],
   "source": [
    "# Función para obtener un lanzamiento desesgado usando la técnica de Von Neumann\n",
    "def lanzamiento_desesgado(p):    \n",
    "    resultado_1= lanzar_moneda(p)\n",
    "    resultado_2= lanzar_moneda (p)\n",
    "    # Caso base: Si los dos lanzamientos tienen resultados diferentes, devuelve el primer resultado\n",
    "    if resultado_1 != resultado_2:\n",
    "        return resultado_1\n",
    "    else:\n",
    "        # Caso recursivo: Si los dos lanzamientos son iguales, se repite el experimento desde el inicio\n",
    "        return lanzamiento_desesgado(p) \n",
    "lanzamiento_desesgado(0.7)"
   ]
  },
  {
   "cell_type": "markdown",
   "metadata": {},
   "source": [
    "Ejecute dos experimentos para comparar los resultados de una moneda sesgada (`lanzar_moneda(p)`) con los de una moneda desesgada (`lanzamiento_desesgado()`).\n",
    "\n",
    "1. Elija un valor de `p` entre 0 y 1, donde `p` representa la probabilidad de obtener \"Cara\" (`\"C\"`) en la función `lanzar_moneda(p)`.\n",
    "2. Ejecute `lanzar_moneda(p)` 1000 veces y registre cuántas veces obtiene \"Cara\" (`\"C\"`) y cuántas veces obtiene \"Sello\" (`\"S\"`).\n",
    "3. Ejecute `lanzamiento_desesgado()` 1000 veces usando el mismo valor de `p` como referencia interna y registre los resultados de \"Cara\" y \"Sello\".\n",
    "4. Reporte los resultados mostrando la cantidad total de \"Cara\" y \"Sello\" obtenidas con cada función.\n",
    "\n",
    "Ejemplo\n",
    "```python\n",
    "Resultados de lanzar_moneda(p=0.7):\n",
    "Caras: 705\n",
    "Sellos: 295\n",
    "\n",
    "Resultados de lanzamiento_desesgado():\n",
    "Caras: 500\n",
    "Sellos: 500"
   ]
  },
  {
   "cell_type": "markdown",
   "metadata": {},
   "source": [
    "Analice cómo varía el número de llamadas recursivas de la función `lanzamiento_desesgado()` a medida que cambia el valor de `p`.\n",
    "\n",
    "1. Ejecute `lanzamiento_desesgado()` 1000 veces para diferentes valores de `p`, por ejemplo (No tiene que correr estos valores):\n",
    "   - `p = 0.1` → 1000 ejecuciones   \n",
    "   - `p = 0.5` → 1000 ejecuciones  \n",
    "   - `p = 0.9` → 1000 ejecuciones  \n",
    "2. Registre cuántas veces la función se llama a sí misma en cada caso.\n",
    "3. Explique la relación entre `p` y la cantidad de llamadas recursivas observadas.\n",
    "\n",
    "- ¿Cómo afecta un valor de `p` cercano a 0 o 1 la cantidad de veces que la función se repite?\n",
    "- ¿Existe algún valor de `p` que minimice las llamadas recursivas?"
   ]
  },
  {
   "cell_type": "markdown",
   "metadata": {},
   "source": [
    "### Bono 1\n",
    "\n",
    "Demuestre matemáticamente que el algoritmo anterior garantiza que el valor esperado de Caras es igual al valor esperado de Sellos. No es valido hacer simulaciones o Python. Devuelva su solución en la siguiente celda haciendo uso de latex y/o markdown."
   ]
  },
  {
   "cell_type": "markdown",
   "metadata": {},
   "source": [
    "BONO :)"
   ]
  },
  {
   "cell_type": "markdown",
   "metadata": {},
   "source": [
    "## Punto 2. Construir el album de Panini\n",
    "\n",
    "Ahora hagamos una simulación más compleja.\n",
    "\n",
    "¿Cuántos sobres del album de Panini del Mundial necesito comprar para poder llenarlo? Supongamos lo siguiente:\n",
    "- El album tiene 638 monas/laminitas.\n",
    "- Todas las monas son igual de probables de encontrarse en los sobres.\n",
    "- Un sobre puede tener monas/laminitas repetidas.\n",
    "- Cada sobre trae 5 monas/laminas.\n",
    "- No es posible intercambiar monas con otras personas.\n",
    "\n",
    "Para responder esta pregunta podríamos tomar un camino [analítico](http://www.unige.ch/math/folks/velenik/Vulg/Paninimania.pdf) o de simulación computacional. En este caso, tomaremos el último.\n",
    "\n",
    "### Punto 2.1.\n",
    "Primero creemos **una función** que cree un album de Panini vacío. En este mundo abstracto, representamos un album como la lista de espacios vacías que nos faltan por llenar."
   ]
  },
  {
   "cell_type": "code",
   "execution_count": 203,
   "metadata": {},
   "outputs": [],
   "source": [
    "def estrenar_album(n_monas: int = 638) -> list[int]:\n",
    "    \"\"\"\n",
    "    Definición de la función: Crea un álbum de Panini vacío representado como la lista de ids que faltan por llenar.\n",
    "    Por convención, las monas se indexan desde 1 hasta n_monas.\n",
    "    Parámetros: (n_monas : int). Número total de monas/laminitas del álbum.\n",
    "    Retorna: (list[int]). Lista con los ids de todas las monas que faltan (álbum completamente vacío).\n",
    "    \"\"\"\n",
    "    if n_monas <= 0:\n",
    "        raise ValueError(\"n_monas debe ser un entero positivo.\")\n",
    "    return list(range(1, n_monas + 1))\n",
    "album_i = estrenar_album(638)"
   ]
  },
  {
   "cell_type": "markdown",
   "metadata": {},
   "source": [
    "Para este punto su respuesta se debe ver de la siguiente manera:\n",
    "\n",
    "```python\n",
    "album_i = estrenar_album()\n",
    "album_i\n",
    "```\n",
    "\n",
    "```\n",
    "[1, 2, ..., 638]\n",
    "```"
   ]
  },
  {
   "cell_type": "markdown",
   "metadata": {},
   "source": [
    "### Punto 2.2\n",
    "\n",
    "Ahora vamos a crear una función que sea abrir un sobre de monas/laminitas. Es decir, cree una función que escoja 5 números al azar entre 1 y 638, todos con igual probabilidad de ocurrencia y con reemplazo (es decir, en un sobre puede tener repetidos).\n",
    "\n",
    "> Hint: La distribución uniforme le puede ser útil acá."
   ]
  },
  {
   "cell_type": "code",
   "execution_count": 204,
   "metadata": {},
   "outputs": [
    {
     "name": "stdout",
     "output_type": "stream",
     "text": [
      "[271 107  72  21 615]\n"
     ]
    }
   ],
   "source": [
    "# Mariana: Intento con parámetros bloqueados\n",
    "def abrir_sobre() -> np.ndarray:\n",
    "    \"\"\"\n",
    "    Definición función: Simula abrir un sobre de monas/laminitas del álbum Panini.\n",
    "    Parámetros: Ninguno.\n",
    "    Retorna: (np.ndarray). Arreglo con las monas obtenidas en el sobre (pueden venir repetidas).\n",
    "    \"\"\"\n",
    "    # El size y el rango de las monas está \"bloqueados\" en 638 y 5, no importa qué intente poner el usuario\n",
    "    n_monas = int(638)\n",
    "    return np.random.randint(1, n_monas + 1, size=5)\n",
    "\n",
    "# Ejemplo de uso\n",
    "sobre_j = abrir_sobre()\n",
    "print(sobre_j)\n",
    "\n",
    "# Utilizamos una distribución uniforme porque en esta se asigna una probabilidad igual a todos los eventos posibles, en este caso a todas las monas del álbum. \n",
    "# Por otra parte, para contemplar el remplazo utilizamos size = sobre. Size le indica a la función cuántos números aleatorios queremos generar, en este caso 5, \n",
    "# indica que la realización de números aleatorios puede generarse con reemplazo."
   ]
  },
  {
   "cell_type": "code",
   "execution_count": 205,
   "metadata": {},
   "outputs": [
    {
     "name": "stdout",
     "output_type": "stream",
     "text": [
      "[122 467 215 331 459]\n"
     ]
    }
   ],
   "source": [
    "# Solución 2: Intento con parámetros desbloqueados\n",
    "# Mariana: Intento con parámetros bloqueados\n",
    "def abrir_sobre(n_monas: int = 638, sobre: int = 5) -> np.ndarray:\n",
    "    \"\"\"\n",
    "    Definición función: Simula abrir un sobre de monas/laminitas del álbum Panini.\n",
    "    Parámetros: (n_monas : int). Número total de monas del álbum (por defecto 638).\n",
    "                (sobre : int). Número de monas que vienen en un sobre (por defecto 5).\n",
    "    Retorna: (np.ndarray). Arreglo con las monas obtenidas en el sobre (pueden venir repetidas).\n",
    "    \"\"\"\n",
    "    # El size y el rango de las monas está \"bloqueados\" en 638 y 5, no importa qué intente poner el usuario\n",
    "    n_monas = int(n_monas)\n",
    "    return np.random.randint(1, n_monas + 1, size=sobre)\n",
    "\n",
    "# Ejemplo de uso\n",
    "sobre_j = abrir_sobre()\n",
    "print(sobre_j)\n"
   ]
  },
  {
   "cell_type": "markdown",
   "metadata": {},
   "source": [
    "Para este punto su respuesta se debe ver de la siguiente manera:\n",
    "\n",
    "```python\n",
    "sobre_j = abrir_sobre()\n",
    "sobre_j\n",
    "```\n",
    "\n",
    "```\n",
    "array([ 64, 377, 159, 619, 332])\n",
    "```"
   ]
  },
  {
   "cell_type": "markdown",
   "metadata": {},
   "source": [
    "### Punto 2.3.\n",
    "\n",
    "Ahora definamos una función que sea pegar las monas/laminitas de nuestro paquete en nuestro album. \n",
    "\n",
    "Para hacer esto suponemos que nuestro `album_i` creado en el punto 2.1. es una lista con todas las monas/laminitas que hacen falta para llenar el album. En ese sentido, \"pegar\" las monas/laminitas en este consiste en eliminar los números que se tienen en el `sobre_j` del `album_i`.  "
   ]
  },
  {
   "cell_type": "code",
   "execution_count": 206,
   "metadata": {},
   "outputs": [
    {
     "name": "stdout",
     "output_type": "stream",
     "text": [
      "Te faltan las monas: [45, 52, 68, 71, 197, 219, 240, 255, 290, 299, 333, 355, 433, 434, 479, 480, 486, 487, 528, 555, 600, 603]\n",
      "En total aun te faltan 22 monas.\n"
     ]
    }
   ],
   "source": [
    "# Intento Mariana 1: Utilizando funciones 2.1 y 2.2 al interior de la función.\n",
    "def pegar_monas(n_sobres: int, n_monas: int = 638) -> list[int]:\n",
    "    \"\"\"\n",
    "    Definir función: Estrena un álbum, abre n_sobres sobres y pega las monas.\n",
    "    Parámetros: (n_sobres : int). Número de sobres que se van a abrir.\n",
    "                (n_monas : int). Número total de monas del álbum (por defecto 638).\n",
    "    Retorna: (list[int]). Una lista de las monas que todavía faltan después de abrir n_sobres sobres.\n",
    "    \"\"\"\n",
    "    album = estrenar_album(n_monas) \n",
    "    for _ in range(n_sobres):\n",
    "        sobre = abrir_sobre()\n",
    "        album = sorted(list(set(album) - set(sobre)))\n",
    "    return album\n",
    "\n",
    "# Prueba\n",
    "faltantes = pegar_monas(n_sobres=500, n_monas=638)\n",
    "print(\"Te faltan las monas:\", faltantes)\n",
    "print(\"En total aun te faltan\", len(faltantes), \"monas.\")"
   ]
  },
  {
   "cell_type": "code",
   "execution_count": 208,
   "metadata": {},
   "outputs": [
    {
     "name": "stdout",
     "output_type": "stream",
     "text": [
      "[1, 2, 3, 4, 5]\n",
      "[2, 3, 4, 5, 6]\n"
     ]
    }
   ],
   "source": [
    "# Solución 2 \n",
    "def pegar_monas(album: list[int], monas) -> list[int]:\n",
    "    \"\"\"\n",
    "    Definir función: Elimina del álbum (lista de faltantes) las monas recibidas en 'monas'.\n",
    "    Parámetros:(album : list[int]). Lista de monas que aún faltan en el álbum (p. ej., [1,2,3,...,638]).\n",
    "               (monas : Iterable[int]). Colección de monas obtenidas (p. ej., [1] o el array devuelto por abrir_sobre()).\n",
    "    Retorna: (list[int]). Nueva lista de faltantes tras “pegar” las monas recibidas.\n",
    "    \"\"\"\n",
    "    # Convertimos a conjuntos para eliminar y luego ordenamos\n",
    "    faltantes = set(album)\n",
    "    faltantes -= set(monas)\n",
    "    return sorted(faltantes)\n",
    "\n",
    "album_i = estrenar_album(638)\n",
    "print(album_i[0:5])  # Ver las primeras 5 que faltan\n",
    "album_i = pegar_monas(album=album_i, monas=[1]) # Pegar la mona 1\n",
    "print(album_i[0:5]) \n",
    "\n",
    "# Pegar las del sobre\n",
    "sobre_j = abrir_sobre()\n",
    "album_j = pegar_monas(album=album_i, monas=sobre_j)"
   ]
  },
  {
   "cell_type": "markdown",
   "metadata": {},
   "source": [
    "A modo de ejemplo, su código debe funcionar de la siguiente manera:\n",
    "\n",
    "```python\n",
    "# A modo de ejemplo, peguemos la mona 1\n",
    "\n",
    "# Primero veamos las primeras 5 monas que nos faltan pegar\n",
    "album_i[0:5]\n",
    "```\n",
    "\n",
    "```\n",
    "[1, 2, 3, 4, 5]\n",
    "``` \n",
    "\n",
    "```python\n",
    "# Peguemos la mona 1 veamos que sucede\n",
    "album_i = pegar_monas(album = album_i, monas = [1])\n",
    "album_i[0:5]\n",
    "```\n",
    "\n",
    "```\n",
    "[2, 3, 4, 5, 6]\n",
    "``` \n",
    "\n",
    "Note que ya el elemento \"1\" (la lamina/mona \"1\") no hace parte del `album_i`. Su función debe funcionar entonces de la siguiente manera:\n",
    "\n",
    "```python\n",
    "album_i = pegar_monas(album = album_i, monas = sobre_j)\n",
    "```\n"
   ]
  },
  {
   "cell_type": "markdown",
   "metadata": {},
   "source": [
    "## Punto 3. Simulaciones\n",
    "Cree una simulación que consista en saber cuántos sobres necesitamos para llenar un album como el descrito en el punto 2.\n",
    "\n",
    "### Punto 3.1.\n",
    "\n",
    "Para hacerlo apóyese de un `while loop` bajo la siguiente lógica:\n",
    "\n",
    "```python\n",
    "# Definimos condiciones iniciales\n",
    "album_i = estrenar_album()\n",
    "\n",
    "# Vamos a abrir sobres hasta que llenemos el album\n",
    "while len(album_i) > 0:\n",
    "    # Simulamos abrir un sobre\n",
    "    \n",
    "    # Simulamos pegar las laminas en el sobre\n",
    "    \n",
    "    # Llevamos el conteo de cuántos sobres llevamos\n",
    "    n_sobres += 1    \n",
    "\n",
    "# Tenemos que abrir n_sobres\n",
    "n_sobres\n",
    "```"
   ]
  },
  {
   "cell_type": "code",
   "execution_count": 216,
   "metadata": {},
   "outputs": [
    {
     "name": "stdout",
     "output_type": "stream",
     "text": [
      "Número de sobres para llenar el álbum: 927\n"
     ]
    }
   ],
   "source": [
    "# Definimos condiciones iniciales\n",
    "album_i = estrenar_album()\n",
    "n_sobres = 0\n",
    "\n",
    "while len(album_i) > 0:\n",
    "    # Simulamos abrir un sobre    \n",
    "    sobre_j = abrir_sobre()                \n",
    "    # Simulamos pegar las laminas en el sobre\n",
    "    album_i = pegar_monas(album_i, sobre_j) \n",
    "     # Llevamos el conteo de cuántos sobres llevamos\n",
    "    n_sobres += 1                          \n",
    "print(\"Número de sobres para llenar el álbum:\", n_sobres)"
   ]
  },
  {
   "cell_type": "markdown",
   "metadata": {},
   "source": [
    "### Punto 3.2.\n",
    "Note que cada vez que corre la solución anterior le da un resultado de número de sobres diferente. Esto se da por la naturaleza aleatoria del problema.\n",
    "\n",
    "Simule el proceso anterior 1000 veces y guarde el número de sobres que es necesario comprar para llenar el album para cada simulación. "
   ]
  },
  {
   "cell_type": "code",
   "execution_count": 221,
   "metadata": {},
   "outputs": [
    {
     "name": "stdout",
     "output_type": "stream",
     "text": [
      "\n",
      "Promedio muestral de sobres necesarios para completar album: 906.26\n",
      "Desviación estándar: 170.68\n"
     ]
    }
   ],
   "source": [
    "intentos = 1000\n",
    "simulaciones = []\n",
    "for _ in range(intentos):\n",
    "    album_i = estrenar_album()   # empezamos con el álbum vacío\n",
    "    n_sobres = 0                 # contador de sobres\n",
    "    \n",
    "    while len(album_i) > 0:      # seguimos hasta llenarlo\n",
    "        sobre_j = abrir_sobre()\n",
    "        album_i = pegar_monas(album_i, sobre_j)\n",
    "        n_sobres += 1\n",
    "    \n",
    "    simulaciones.append(n_sobres)\n",
    "simulaciones = np.array(simulaciones)\n",
    "\n",
    "print(\"\\nPromedio muestral de sobres necesarios para completar album:\", simulaciones.mean().round(2))\n",
    "print(\"Desviación estándar:\", simulaciones.std().round(2))"
   ]
  },
  {
   "cell_type": "markdown",
   "metadata": {},
   "source": [
    "Utilice el siguiente código para dibujar la distribución de los sobres necesarios para llenar el album.\n",
    "\n",
    "```python\n",
    "import matplotlib.pyplot as plt\n",
    "\n",
    "plt.hist(simulaciones, bins = 30)\n",
    "plt.title('Simulación de abrir 1000 sobres', size = 12)\n",
    "plt.xlabel('Cantidad de sobres')\n",
    "plt.ylabel('Cantidad')\n",
    "```"
   ]
  },
  {
   "cell_type": "code",
   "execution_count": 223,
   "metadata": {},
   "outputs": [
    {
     "data": {
      "image/png": "[encoded data removed]",
      "text/plain": [
       "<Figure size 640x480 with 1 Axes>"
      ]
     },
     "metadata": {},
     "output_type": "display_data"
    }
   ],
   "source": [
    "import matplotlib.pyplot as plt\n",
    "\n",
    "plt.hist(simulaciones, bins=30, edgecolor=\"black\")\n",
    "plt.title('Distribución de sobres necesarios para llenar el álbum (1000 simulaciones)', size=12)\n",
    "plt.xlabel('Cantidad de sobres')\n",
    "plt.ylabel('Frecuencia')\n",
    "plt.show()"
   ]
  },
  {
   "cell_type": "markdown",
   "metadata": {},
   "source": [
    "### Bono 2\n",
    "Este solo será valido si se responden todas las preguntas del bono y se muestra la solución.\n",
    "\n",
    "1. Construya una Curva de Probabilidad Acumulada sobre `n_sobres` y grafiquela. \n",
    "2. Interprete la Curva."
   ]
  },
  {
   "cell_type": "code",
   "execution_count": null,
   "metadata": {},
   "outputs": [],
   "source": []
  }
 ],
 "metadata": {
  "kernelspec": {
   "display_name": "Python 3",
   "language": "python",
   "name": "python3"
  },
  "language_info": {
   "codemirror_mode": {
    "name": "ipython",
    "version": 3
   },
   "file_extension": ".py",
   "mimetype": "text/x-python",
   "name": "python",
   "nbconvert_exporter": "python",
   "pygments_lexer": "ipython3",
   "version": "3.12.3"
  }
 },
 "nbformat": 4,
 "nbformat_minor": 2
}
