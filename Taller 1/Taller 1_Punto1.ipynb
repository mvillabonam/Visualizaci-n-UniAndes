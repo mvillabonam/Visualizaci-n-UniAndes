{
 "cells": [
  {
   "cell_type": "markdown",
   "metadata": {},
   "source": [
    "# Taller 1\n",
    "\n",
    "## Instrucciones generales\n",
    "\n",
    "1. Para desarrollar el *cuaderno* primero debe descargarlo.\n",
    "\n",
    "2. Para responder cada inciso deberá utilizar el espacio debidamente especificado.\n",
    "\n",
    "3. La actividad se considera entregada para calificación cuando el *cuaderno* de jupyter notebook con extensión `.ipynb` se sube al espacio correspondiente en el aula de Bloque Neón. Ningún material adicional será revisado.\n",
    "\n",
    "4. La solución del taller debe ser realizado en **grupos**. No se aceptaran talleres de individuales. \n",
    "\n",
    "5. El cuaderno debe poderse correr sin errores al momento de evaluar.\n",
    "\n",
    "## Criterios de evaluación.\n",
    "Su calificación podrá ser penalizada por los siguientes items:\n",
    "\n",
    "- Falta de seguimiento de las instrucciones.\n",
    "- Código no-human readable. \n",
    "- Falta de una debida explicación y comentarios al código.\n",
    "\n",
    "A continuación se listan los puntajes máximos para cada punto:\n",
    "| **Punto** | **Puntaje Máximo** |\n",
    "|:---------:|:------------------:|\n",
    "|     1     |         1.0        |\n",
    "|     2     |         2.0        |\n",
    "|     3     |         2.0        |\n",
    "\n",
    "Punto 1 (Calentamiento) vale 0.2 y el resto del punto 1 vale 0.8. Cada subnumeral del punto 2 y 3 vale lo mismo.\n",
    "\n",
    "Este Taller evalúa los tópicos de la semana 1 a la 4 y tiene el valor de un 20% en su calificación final."
   ]
  },
  {
   "cell_type": "markdown",
   "metadata": {},
   "source": [
    "# Punto 1 (Calentamiento)"
   ]
  },
  {
   "cell_type": "markdown",
   "metadata": {},
   "source": [
    "Construya una función que represente el lanzamiento de un dado de 6 caras. Lance el dado 1000 veces y guarde sus resultado en un vector. Calcule la media empírica y el valor esperado (teórico) de lanzar el mismo dado y compare los resultados. "
   ]
  },
  {
   "cell_type": "code",
   "execution_count": null,
   "metadata": {},
   "outputs": [
    {
     "name": "stdout",
     "output_type": "stream",
     "text": [
      "3.504\n",
      "3.5\n",
      "Los resultados son muy cercanos. La función refleja bien el valor esperado.\n"
     ]
    }
   ],
   "source": [
    "# Se importa numpy \n",
    "\n",
    "import numpy as np\n",
    "\n",
    "# Se definen los seis posibles resultados\n",
    "\n",
    "dado= [1,2,3,4,5,6]\n",
    "\n",
    "# Se genera la función\n",
    "\n",
    "def lanzamiento_dado(lista):\n",
    "\n",
    "    \"\"\"\n",
    "    Esta función toma una lista de 6 números (las posibles caras de un dado) y simula el lanzamiento\n",
    "\n",
    "    Parameters:\n",
    "        lista (list): Valores del dado de 1 a 6 \n",
    "\n",
    "    Returns:\n",
    "        resultado (float): Media de 1000 lanzamientos aleatorios\n",
    "    \"\"\"\n",
    "    resultados_lanzamiento= np.random.choice(lista,size=1000)\n",
    "    media= np.mean(resultados_lanzamiento)\n",
    "\n",
    "    return media\n",
    "\n",
    "# Se utiliza la función para obtener la media empírica\n",
    "\n",
    "media_empirica= lanzamiento_dado(dado)\n",
    "print(media_empirica)\n",
    "\n",
    "# Se calcula el valor esperado teórico\n",
    "\n",
    "resultados = np.array(dado)\n",
    "probabilidades = np.array([1/6, 1/6, 1/6, 1/6, 1/6, 1/6]) # Misma probabilidad de que salga cualquiera de los 6 números\n",
    "\n",
    "valor_esperado = np.sum(resultados * probabilidades)\n",
    "print(valor_esperado)\n",
    "\n",
    "# Comparación de valores\n",
    "\n",
    "if np.isclose(media_empirica, valor_esperado, atol=0.05):  # Compara si los valores están cerca bajo el criterio de una distancia de 0.05\n",
    "    print(\"Los resultados son muy cercanos. La función refleja bien el valor esperado.\")\n",
    "else:\n",
    "    print(\"Hay una diferencia significativa entre la media empírica y el valor esperado.\")"
   ]
  },
  {
   "cell_type": "markdown",
   "metadata": {},
   "source": [
    "# Punto 1.5 (Moneda cargada)\n",
    "Implemente una función en Python que simule el lanzamiento de una moneda cargada.\n",
    "\n",
    "- La función debe llamarse `lanzar_moneda` y recibir un único parámetro `p` (`float`): Un número entre 0 y 1 que representa la probabilidad de obtener \"Cara\" en el lanzamiento.\n",
    "- La probabilidad de obtener \"Sello\" será complementaria, es decir, `1 - p`.\n",
    "- La función debe devolver un string:\n",
    "  - `\"C\"` si el resultado del lanzamiento es \"Cara\".\n",
    "  - `\"S\"` si el resultado del lanzamiento es \"Sello\".\n",
    "\n",
    "Ejemplo de uso:\n",
    "```python\n",
    "resultado = lanzar_moneda(0.7)\n",
    "print(resultado)  # Puede imprimir \"C\" con probabilidad 0.7 o \"S\" con probabilidad 0.3"
   ]
  },
  {
   "cell_type": "code",
   "execution_count": 33,
   "metadata": {},
   "outputs": [
    {
     "name": "stdout",
     "output_type": "stream",
     "text": [
      "C\n"
     ]
    }
   ],
   "source": [
    "# Se importa numpy \n",
    "\n",
    "import numpy as np\n",
    "\n",
    "def lanzar_moneda(p):\n",
    "    \"\"\"\n",
    "    Esta función recibe un parámetro p que representa la probabilidad de obtener \"Cara\" en el lanzamiento y \n",
    "    arroja el resultado de cara o sello. \n",
    "\n",
    "    Parameters:\n",
    "        p (float): Un número entre 0 y 1 \n",
    "\n",
    "    Returns:\n",
    "        resultado (string): \"C\" o \"S\" \n",
    "\"    \"\"\"\n",
    "\n",
    "    aleatorio = np.random.rand()  # Número aleatorio entre 0 y 1\n",
    "\n",
    "    if aleatorio  < p:\n",
    "        return \"C\"  # Si la probabilidad de obtener sello es menor a la de obtener cara entonces sale cara \"C\"\n",
    "    else:\n",
    "        return \"S\" # En caso contrario sale sello \"S\"\n",
    "\n",
    "# Aplicar la función\n",
    "\n",
    "resultado= lanzar_moneda(0.7)\n",
    "print(resultado)\n",
    "\n"
   ]
  },
  {
   "cell_type": "markdown",
   "metadata": {},
   "source": [
    "Implemente el siguiente algoritmo para quitarle el sesgo a la moneda i.e. la probabilidad de sacar \"C\" es igual a la probabilidad de sacar \"S\".\n",
    "\n",
    "**Algoritmo:**\n",
    "1. Lance la moneda sesgada dos veces (utilice la función creada anteriormente con el mismo valor de `p` en ambos lanzamientos).\n",
    "2. Si los dos lanzamientos tienen resultados diferentes, devuelve el primer resultado.\n",
    "3. Si los dos lanzamientos son iguales, repite el experimento desde el inicio. Para hacer esto debe hacer uso del concepto de _recursión_. Investigue que es esto y cómo implementarlo en este caso. \n",
    "> Hint: En el Jupyter Notebook de la Sesión 3 hay un par de ejercicios y ejemplos acerca de la recursión.\n",
    "\n",
    "Cree una función llamada `lanzamiento_desesgado()` para implementar este algoritmo. Note que para que este algoritmo funcione **NO** es necesario conocer el sesgo de la moneda (WOW, no?)."
   ]
  },
  {
   "cell_type": "code",
   "execution_count": 34,
   "metadata": {},
   "outputs": [
    {
     "data": {
      "text/plain": [
       "'C'"
      ]
     },
     "execution_count": 34,
     "metadata": {},
     "output_type": "execute_result"
    }
   ],
   "source": [
    "def lanzamiento_desesgado(p):\n",
    "    \n",
    "    resultado_1= lanzar_moneda(p)\n",
    "    resultado_2= lanzar_moneda (p)\n",
    "\n",
    "    # Caso base: Si los dos lanzamientos tienen resultados diferentes, devuelve el primer resultado\n",
    "    if resultado_1 != resultado_2:\n",
    "        return resultado_1\n",
    "    else:\n",
    "        # Caso recursivo: Si los dos lanzamientos son iguales, se repite el experimento desde el inicio\n",
    "        return lanzamiento_desesgado(p)\n",
    "    \n",
    "lanzamiento_desesgado(0.7)"
   ]
  },
  {
   "cell_type": "markdown",
   "metadata": {},
   "source": [
    "Ejecute dos experimentos para comparar los resultados de una moneda sesgada (`lanzar_moneda(p)`) con los de una moneda desesgada (`lanzamiento_desesgado()`).\n",
    "\n",
    "1. Elija un valor de `p` entre 0 y 1, donde `p` representa la probabilidad de obtener \"Cara\" (`\"C\"`) en la función `lanzar_moneda(p)`.\n",
    "2. Ejecute `lanzar_moneda(p)` 1000 veces y registre cuántas veces obtiene \"Cara\" (`\"C\"`) y cuántas veces obtiene \"Sello\" (`\"S\"`).\n",
    "3. Ejecute `lanzamiento_desesgado()` 1000 veces usando el mismo valor de `p` como referencia interna y registre los resultados de \"Cara\" y \"Sello\".\n",
    "4. Reporte los resultados mostrando la cantidad total de \"Cara\" y \"Sello\" obtenidas con cada función.\n",
    "\n",
    "Ejemplo\n",
    "```python\n",
    "Resultados de lanzar_moneda(p=0.7):\n",
    "Caras: 705\n",
    "Sellos: 295\n",
    "\n",
    "Resultados de lanzamiento_desesgado():\n",
    "Caras: 500\n",
    "Sellos: 500"
   ]
  },
  {
   "cell_type": "code",
   "execution_count": 40,
   "metadata": {},
   "outputs": [
    {
     "name": "stdout",
     "output_type": "stream",
     "text": [
      "Resultados de lanzar_moneda\n",
      "Caras: 203\n",
      "Sellos: 797\n",
      "Resultados de lanzamiento_desesgado\n",
      "Caras: 487\n",
      "Sellos: 513\n"
     ]
    }
   ],
   "source": [
    "# Importar numpy\n",
    "\n",
    "import numpy as np\n",
    "\n",
    "# Seleccionar la probabilidad\n",
    "\n",
    "numero_elegido= 0.2 # Probabilidad de obtener cara\n",
    "\n",
    "# Vector para contar caras en lanzar_moneda\n",
    "\n",
    "Caras_sesgado= []\n",
    "\n",
    "# Vector para contar sellos en lanzar_moneda\n",
    "\n",
    "Sellos_sesgado= []\n",
    "\n",
    "# Vector para contar caras en lanzamiento_desesgado\n",
    "\n",
    "Caras_desesgado= []\n",
    "\n",
    "# Vector para contar sellos en lanzamiento_desesgado\n",
    "\n",
    "Sellos_desesgado= []\n",
    "\n",
    "# Loop lanzar_moneda\n",
    "\n",
    "for i in range(1000):\n",
    "    resultado= lanzar_moneda(numero_elegido)\n",
    "    if resultado == \"C\":\n",
    "        Caras_sesgado.append(resultado) # Guarda las veces que sale cara\n",
    "    else:\n",
    "        Sellos_sesgado.append(resultado) # Guarda las veces que sale sello\n",
    "\n",
    "# Loop lanzamiento_desesgado\n",
    "\n",
    "for i in range(1000):\n",
    "    resultado= lanzamiento_desesgado(numero_elegido)\n",
    "    if resultado == \"C\":\n",
    "        Caras_desesgado.append(resultado) # Guarda las veces que sale cara\n",
    "    else:\n",
    "        Sellos_desesgado.append(resultado) # Guarda las veces que sale sello\n",
    "\n",
    "\n",
    "print(\"Resultados de lanzar_moneda\")\n",
    "print(f\"Caras:\",len(Caras_sesgado))\n",
    "print(f\"Sellos:\",len(Sellos_sesgado))\n",
    "\n",
    "print(\"Resultados de lanzamiento_desesgado\")\n",
    "print(f\"Caras:\",len(Caras_desesgado))\n",
    "print(f\"Sellos:\",len(Sellos_desesgado))\n"
   ]
  },
  {
   "cell_type": "markdown",
   "metadata": {},
   "source": [
    "Analice cómo varía el número de llamadas recursivas de la función `lanzamiento_desesgado()` a medida que cambia el valor de `p`.\n",
    "\n",
    "1. Ejecute `lanzamiento_desesgado()` 1000 veces para diferentes valores de `p`, por ejemplo (No tiene que correr estos valores):\n",
    "   - `p = 0.1` → 1000 ejecuciones   \n",
    "   - `p = 0.5` → 1000 ejecuciones  \n",
    "   - `p = 0.9` → 1000 ejecuciones  \n",
    "2. Registre cuántas veces la función se llama a sí misma en cada caso.\n",
    "3. Explique la relación entre `p` y la cantidad de llamadas recursivas observadas.\n",
    "\n",
    "- ¿Cómo afecta un valor de `p` cercano a 0 o 1 la cantidad de veces que la función se repite?\n",
    "- ¿Existe algún valor de `p` que minimice las llamadas recursivas?"
   ]
  },
  {
   "cell_type": "code",
   "execution_count": 55,
   "metadata": {},
   "outputs": [
    {
     "name": "stdout",
     "output_type": "stream",
     "text": [
      "Con p=0.1 la función se llama 5640 veces\n",
      "Con p=0.5 la función se llama 2026 veces\n",
      "Con p=0.9 la función se llama 77545 veces\n"
     ]
    }
   ],
   "source": [
    "# Importar numpy\n",
    "\n",
    "import numpy as np\n",
    "\n",
    "# Modificar la función para que cuente internamente cuando se vuelve a llamar a la función\n",
    "\n",
    "def lanzamiento_desesgado_contador(p, contador=None):\n",
    "    if contador is None: #Cuando el conteo inicia\n",
    "        contador = [0]  # Variable para conteo\n",
    "\n",
    "    contador[0] += 1  # Contar esta llamada\n",
    "\n",
    "    resultado_1 = lanzar_moneda(p)\n",
    "    resultado_2 = lanzar_moneda(p)\n",
    "\n",
    "    if resultado_1 != resultado_2:\n",
    "        return resultado_1, contador[0]\n",
    "    else:\n",
    "        return lanzamiento_desesgado_contador(p, contador)\n",
    "\n",
    "# Crear los vectores vacíos que se van a llenar cada vez que se llame la función en los tres escenarios de p:\n",
    "\n",
    "conteo_p1=0 #p1 es el caso p=0.1\n",
    "conteo_p2=0 #p2 es el caso p=0.5\n",
    "conteo_03=0 #p3 es el caso p=0.9\n",
    "\n",
    "# Caso p1, p=0.1\n",
    "\n",
    "for i in range(1000):\n",
    "        i, conteo = lanzamiento_desesgado_contador(0.1)  # Se devuelve también el contador\n",
    "        conteo_p1 += conteo\n",
    "\n",
    "# Caso p2, p=0.5\n",
    "\n",
    "for i in range(1000):\n",
    "        i, conteo = lanzamiento_desesgado_contador(0.5)  # Se devuelve también el contador\n",
    "        conteo_p2 += conteo\n",
    "\n",
    "# Caso p3, p=0.9\n",
    "\n",
    "for i in range(1000):\n",
    "        i, conteo = lanzamiento_desesgado_contador(0.9)  # Se devuelve también el contador\n",
    "        conteo_p3 += conteo\n",
    "\n",
    "# Imprimir resultados \n",
    "\n",
    "print(f\"Con p=0.1 la función se llama\",conteo_p1,\"veces\")\n",
    "print(f\"Con p=0.5 la función se llama\",conteo_p2,\"veces\")\n",
    "print(f\"Con p=0.9 la función se llama\",conteo_p3,\"veces\")\n",
    "    \n"
   ]
  },
  {
   "cell_type": "markdown",
   "metadata": {},
   "source": [
    "Respuesta al literal 3:\n",
    "\n",
    "El algortimo que se utiliza para quitar el sesgo de la moneda sigue la siguiente expresión de que los lanzamientos sean iguales:\n",
    "\n",
    "$P(CC)+P(SS)=p^2+(1−p)^2$\n",
    "\n",
    "Esta expresión será más alta entre más cercanos sean los valores a 0 o a 1 y será más baja cuando p=0.5. Esto quiere decir que cuando se toman valores extremos (0.1 o 0.9) saldrán más resultados iguales, por lo que se requiere más recursión para llegar al caso base (que sean diferentes los dos resultados), mientras que si p=0.5 se obtiene mayor probabilidad de obtener resultados diferentes y por tanto se requiere menos recursión para llegar al caso base. \n"
   ]
  },
  {
   "cell_type": "markdown",
   "metadata": {},
   "source": [
    "### Bono 1\n",
    "\n",
    "Demuestre matemáticamente que el algoritmo anterior garantiza que el valor esperado de Caras es igual al valor esperado de Sellos. No es valido hacer simulaciones o Python. Devuelva su solución en la siguiente celda haciendo uso de latex y/o markdown."
   ]
  },
  {
   "cell_type": "markdown",
   "metadata": {},
   "source": [
    "BONO :)"
   ]
  },
  {
   "cell_type": "markdown",
   "metadata": {},
   "source": [
    "Sea $p \\in (0,1)$ la probabilidad de que una moneda sesgada devuelva \"Cara\", \"C\".\n",
    "\n",
    "Entonces:\n",
    "\n",
    "${P}(\\text{C}) = p$\n",
    "\n",
    "${P}(\\text{S}) = 1 - p$\n",
    "\n",
    "El algoritmo lanza la moneda dos veces seguidas. Si los resultados son diferentes (CS o SC), se devuelve el primer resultado. Pero si los resultados son iguales (CC o SS), se repite el procedimiento.\n",
    "\n",
    "Ahora, las probabilidades condicionadas de obtener \"C\" o \"S\" en el escenario en el que los dos lanzamientos son diferentes (el caso base, al que se quiere llegar con la recursividad) son:\n",
    "\n",
    "${P}(\\text{CS}) = p(1 - p)$\n",
    "\n",
    "${P}(\\text{SC}) = (1 - p)p$\n",
    "\n",
    "Entonces la probabilidad total de que los dos resultados sean diferentes es:\n",
    "\n",
    "${P}(\\text{resultados diferentes}) = {P}(\\text{CS}) + {P}(\\text{SC}) = p(1 - p) + (1 - p)p = 2p(1 - p)$\n",
    "\n",
    "La probabilidad de que el algoritmo devuelva \"C\" ocurre cuando los resultados son CS (cuando el primer lanzamiento fue \"C\").\n",
    "\n",
    "${P}(\\text{algoritmo devuelve C}) = \\frac{{P}(\\text{CS})}{{P}(\\text{CS}) + {P}(\\text{SC})}\n",
    "= \\frac{p(1 - p)}{2p(1 - p)} = \\frac{1}{2}$\n",
    "\n",
    "La probabilidad de que el algoritmo devuelva \"S\" ocurre cuando los resultados son SC (el primer lanzamiento fue \"S\").\n",
    "\n",
    "${P}(\\text{algoritmo devuelve S}) = \\frac{{P}(\\text{SC})}{{P}(\\text{CS}) + {P}(\\text{SC})}=\\frac{(1 - p)p}{2p(1 - p)} = \\frac{1}{2}$\n",
    "\n",
    "Así, se tiene que\n",
    "\n",
    "${P}(\\text{algoritmo devuelve C}) = {P}(\\text{algoritmo devuelve S}) = \\frac{1}{2}$\n",
    "\n",
    "Por lo tanto, el algoritmo genera una moneda justa a partir de una moneda sesgada, sin importar el valor de p."
   ]
  },
  {
   "cell_type": "markdown",
   "metadata": {},
   "source": [
    "## Punto 2. Construir el album de Panini\n",
    "\n",
    "Ahora hagamos una simulación más compleja.\n",
    "\n",
    "¿Cuántos sobres del album de Panini del Mundial necesito comprar para poder llenarlo? Supongamos lo siguiente:\n",
    "- El album tiene 638 monas/laminitas.\n",
    "- Todas las monas son igual de probables de encontrarse en los sobres.\n",
    "- Un sobre puede tener monas/laminitas repetidas.\n",
    "- Cada sobre trae 5 monas/laminas.\n",
    "- No es posible intercambiar monas con otras personas.\n",
    "\n",
    "Para responder esta pregunta podríamos tomar un camino [analítico](http://www.unige.ch/math/folks/velenik/Vulg/Paninimania.pdf) o de simulación computacional. En este caso, tomaremos el último.\n",
    "\n",
    "### Punto 2.1.\n",
    "Primero creemos **una función** que cree un album de Panini vacío. En este mundo abstracto, representamos un album como la lista de espacios vacías que nos faltan por llenar."
   ]
  },
  {
   "cell_type": "code",
   "execution_count": null,
   "metadata": {},
   "outputs": [],
   "source": []
  },
  {
   "cell_type": "markdown",
   "metadata": {},
   "source": [
    "Para este punto su respuesta se debe ver de la siguiente manera:\n",
    "\n",
    "```python\n",
    "album_i = estrenar_album()\n",
    "album_i\n",
    "```\n",
    "\n",
    "```\n",
    "[1, 2, ..., 638]\n",
    "```"
   ]
  },
  {
   "cell_type": "markdown",
   "metadata": {},
   "source": [
    "### Punto 2.2\n",
    "\n",
    "Ahora vamos a crear una función que sea abrir un sobre de monas/laminitas. Es decir, cree una función que escoja 5 números al azar entre 1 y 638, todos con igual probabilidad de ocurrencia y con reemplazo (es decir, en un sobre puede tener repetidos).\n",
    "\n",
    "> Hint: La distribución uniforme le puede ser útil acá."
   ]
  },
  {
   "cell_type": "code",
   "execution_count": null,
   "metadata": {},
   "outputs": [
    {
     "data": {
      "text/plain": [
       "array([ 59, 151,  84, 573, 174])"
      ]
     },
     "execution_count": 1,
     "metadata": {},
     "output_type": "execute_result"
    }
   ],
   "source": []
  },
  {
   "cell_type": "markdown",
   "metadata": {},
   "source": [
    "Para este punto su respuesta se debe ver de la siguiente manera:\n",
    "\n",
    "```python\n",
    "sobre_j = abrir_sobre()\n",
    "sobre_j\n",
    "```\n",
    "\n",
    "```\n",
    "array([ 64, 377, 159, 619, 332])\n",
    "```"
   ]
  },
  {
   "cell_type": "markdown",
   "metadata": {},
   "source": [
    "### Punto 2.3.\n",
    "\n",
    "Ahora definamos una función que sea pegar las monas/laminitas de nuestro paquete en nuestro album. \n",
    "\n",
    "Para hacer esto suponemos que nuestro `album_i` creado en el punto 2.1. es una lista con todas las monas/laminitas que hacen falta para llenar el album. En ese sentido, \"pegar\" las monas/laminitas en este consiste en eliminar los números que se tienen en el `sobre_j` del `album_i`.  "
   ]
  },
  {
   "cell_type": "code",
   "execution_count": null,
   "metadata": {},
   "outputs": [],
   "source": []
  },
  {
   "cell_type": "markdown",
   "metadata": {},
   "source": [
    "A modo de ejemplo, su código debe funcionar de la siguiente manera:\n",
    "\n",
    "```python\n",
    "# A modo de ejemplo, peguemos la mona 1\n",
    "\n",
    "# Primero veamos las primeras 5 monas que nos faltan pegar\n",
    "album_i[0:5]\n",
    "```\n",
    "\n",
    "```\n",
    "[1, 2, 3, 4, 5]\n",
    "``` \n",
    "\n",
    "```python\n",
    "# Peguemos la mona 1 veamos que sucede\n",
    "album_i = pegar_monas(album = album_i, monas = [1])\n",
    "album_i[0:5]\n",
    "```\n",
    "\n",
    "```\n",
    "[2, 3, 4, 5, 6]\n",
    "``` \n",
    "\n",
    "Note que ya el elemento \"1\" (la lamina/mona \"1\") no hace parte del `album_i`. Su función debe funcionar entonces de la siguiente manera:\n",
    "\n",
    "```python\n",
    "album_i = pegar_monas(album = album_i, monas = sobre_j)\n",
    "```\n"
   ]
  },
  {
   "cell_type": "markdown",
   "metadata": {},
   "source": [
    "## Punto 3. Simulaciones\n",
    "Cree una simulación que consista en saber cuántos sobres necesitamos para llenar un album como el descrito en el punto 2.\n",
    "\n",
    "### Punto 3.1.\n",
    "\n",
    "Para hacerlo apóyese de un `while loop` bajo la siguiente lógica:\n",
    "\n",
    "```python\n",
    "# Definimos condiciones iniciales\n",
    "album_i = estrenar_album()\n",
    "\n",
    "# Vamos a abrir sobres hasta que llenemos el album\n",
    "while len(album_i) > 0:\n",
    "    # Simulamos abrir un sobre\n",
    "    \n",
    "    # Simulamos pegar las laminas en el sobre\n",
    "    \n",
    "    # Llevamos el conteo de cuántos sobres llevamos\n",
    "    n_sobres += 1    \n",
    "\n",
    "# Tenemos que abrir n_sobres\n",
    "n_sobres\n",
    "```"
   ]
  },
  {
   "cell_type": "code",
   "execution_count": null,
   "metadata": {},
   "outputs": [],
   "source": []
  },
  {
   "cell_type": "markdown",
   "metadata": {},
   "source": [
    "### Punto 3.2.\n",
    "Note que cada vez que corre la solución anterior le da un resultado de número de sobres diferente. Esto se da por la naturaleza aleatoria del problema.\n",
    "\n",
    "Simule el proceso anterior 1000 veces y guarde el número de sobres que es necesario comprar para llenar el album para cada simulación. "
   ]
  },
  {
   "cell_type": "code",
   "execution_count": null,
   "metadata": {},
   "outputs": [],
   "source": []
  },
  {
   "cell_type": "markdown",
   "metadata": {},
   "source": [
    "Utilice el siguiente código para dibujar la distribución de los sobres necesarios para llenar el album.\n",
    "\n",
    "```python\n",
    "import matplotlib.pyplot as plt\n",
    "\n",
    "plt.hist(simulaciones, bins = 30)\n",
    "plt.title('Simulación de abrir 1000 sobres', size = 12)\n",
    "plt.xlabel('Cantidad de sobres')\n",
    "plt.ylabel('Cantidad')\n",
    "```"
   ]
  },
  {
   "cell_type": "code",
   "execution_count": null,
   "metadata": {},
   "outputs": [],
   "source": []
  },
  {
   "cell_type": "markdown",
   "metadata": {},
   "source": [
    "### Bono 2\n",
    "Este solo será valido si se responden todas las preguntas del bono y se muestra la solución.\n",
    "\n",
    "1. Construya una Curva de Probabilidad Acumulada sobre `n_sobres` y grafiquela. \n",
    "2. Interprete la Curva."
   ]
  },
  {
   "cell_type": "code",
   "execution_count": null,
   "metadata": {},
   "outputs": [],
   "source": []
  }
 ],
 "metadata": {
  "kernelspec": {
   "display_name": "base",
   "language": "python",
   "name": "python3"
  },
  "language_info": {
   "codemirror_mode": {
    "name": "ipython",
    "version": 3
   },
   "file_extension": ".py",
   "mimetype": "text/x-python",
   "name": "python",
   "nbconvert_exporter": "python",
   "pygments_lexer": "ipython3",
   "version": "3.13.5"
  }
 },
 "nbformat": 4,
 "nbformat_minor": 2
}
